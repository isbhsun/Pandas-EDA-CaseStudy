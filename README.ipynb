{
 "cells": [
  {
   "cell_type": "markdown",
   "metadata": {},
   "source": [
    "# Youtube Video Engagement\n",
    "\n",
    "#### Isabella Sun and Josh Bernd\n",
    "\n",
    "## Introduction\n",
    "In this proejct, we explored the Trending YouTube Video Statistics data. Specifically, we were interested in different measures of engagement on this set of trending YouTube videos. We wanted to know the relationship between engagement rates and other available information about the videos.\n",
    "\n",
    "## Data Description\n",
    "\n",
    "The data describe a set of top-trending videos on the YouTube platform by various countries. We primarily examined the data from the United States, but explored additional countries as well. The countries included in our analysis were:\n",
    "    -  United States\n",
    "    - Great Britain\n",
    "    - Canada\n",
    "    - Germany\n",
    "    - France\n",
    "    - India\n",
    "\n",
    "The main information included in the data were:\n",
    "    - Trending Date\n",
    "    - Video Title\n",
    "    - YouTube Channel\n",
    "    - Time the video was published\n",
    "    - Category\n",
    "    - Tags\n",
    "    - Number of views\n",
    "    - Number of likes\n",
    "    - Number of dislikes\n",
    "    - Number of comments\n",
    "    \n",
    "Since our focus for this project was engagement rates, our three most important variables were likes, dislikes, and comments. To normalize engagement rates, we divided the total number of likes and dislikes by the number of views, the number of comments by the number of views, and the number of likes to dislikes on each video. \n",
    "\n",
    "### Missing/Excluded Data\n",
    "For the purposes of this project we removed any observations where comments and/or likes and dislikes were disabled for the video and any videos that had an error or were removed from our analysis. In total, there were only 23 videos that were removed or had an error in the US dataset and 696 videos with comments or likes disabled in the US dataset. \n",
    "\n",
    "\n",
    "## Analysis"
   ]
  },
  {
   "cell_type": "code",
   "execution_count": 2,
   "metadata": {},
   "outputs": [],
   "source": []
  },
  {
   "cell_type": "code",
   "execution_count": 3,
   "metadata": {},
   "outputs": [],
   "source": []
  },
  {
   "cell_type": "code",
   "execution_count": 4,
   "metadata": {},
   "outputs": [],
   "source": []
  },
  {
   "cell_type": "markdown",
   "metadata": {},
   "source": [
    "First, we take a look at the top performing videos by our measures of engagement.\n",
    "\n",
    "Below we have the top 10 videos with the highest likes and dislikes per view. It appears that these videos tend to be music/music video type videos. \n",
    "\n"
   ]
  },
  {
   "cell_type": "markdown",
   "metadata": {},
   "source": [
    "![alt text](i1.png \"Title\")"
   ]
  },
  {
   "cell_type": "code",
   "execution_count": null,
   "metadata": {},
   "outputs": [],
   "source": []
  },
  {
   "cell_type": "markdown",
   "metadata": {},
   "source": [
    "Here we have the top 10 videos with the highes comments per view. They appear to commonly be makeup related content. "
   ]
  },
  {
   "cell_type": "markdown",
   "metadata": {},
   "source": [
    "![alt text](i2.png \"Title\")"
   ]
  },
  {
   "cell_type": "code",
   "execution_count": null,
   "metadata": {},
   "outputs": [],
   "source": []
  },
  {
   "cell_type": "markdown",
   "metadata": {},
   "source": [
    "Here are the top 10 channels with the highest likes and dislikes per view"
   ]
  },
  {
   "cell_type": "markdown",
   "metadata": {},
   "source": [
    "![alt text](i3.png \"Title\")"
   ]
  },
  {
   "cell_type": "markdown",
   "metadata": {},
   "source": [
    "and the top 10 channels with the highest comments per view"
   ]
  },
  {
   "cell_type": "markdown",
   "metadata": {},
   "source": [
    "![alt text](i4.png \"Title\")"
   ]
  },
  {
   "cell_type": "markdown",
   "metadata": {},
   "source": [
    "#### Relationship between the different measures of engagement\n",
    "\n",
    "We also examined the realtionship between the measures of engagement. The correlation between likes and dislikes per view and comments per view is **0.44**"
   ]
  },
  {
   "cell_type": "markdown",
   "metadata": {},
   "source": [
    "![alt text](i5.png \"Title\")"
   ]
  },
  {
   "cell_type": "markdown",
   "metadata": {},
   "source": [
    "### Engagement Rates by County"
   ]
  },
  {
   "cell_type": "code",
   "execution_count": 10,
   "metadata": {},
   "outputs": [],
   "source": []
  },
  {
   "cell_type": "code",
   "execution_count": 11,
   "metadata": {},
   "outputs": [],
   "source": []
  },
  {
   "cell_type": "markdown",
   "metadata": {},
   "source": [
    "Below are figures visualizing the engagement rates by country. "
   ]
  },
  {
   "cell_type": "markdown",
   "metadata": {},
   "source": [
    "![alt text](i6.png \"Title\")"
   ]
  },
  {
   "cell_type": "markdown",
   "metadata": {},
   "source": [
    "## Visualizing Video View Depreciation"
   ]
  },
  {
   "cell_type": "markdown",
   "metadata": {},
   "source": [
    "An interesting feature of these data sets was that video data was entered each time the video trended. We wanted to see how a video's trending impacted new views."
   ]
  },
  {
   "cell_type": "markdown",
   "metadata": {},
   "source": [
    "![alt text](graph.png \"Title\")"
   ]
  },
  {
   "cell_type": "code",
   "execution_count": null,
   "metadata": {},
   "outputs": [],
   "source": []
  }
 ],
 "metadata": {
  "kernelspec": {
   "display_name": "Python 3",
   "language": "python",
   "name": "python3"
  },
  "language_info": {
   "codemirror_mode": {
    "name": "ipython",
    "version": 3
   },
   "file_extension": ".py",
   "mimetype": "text/x-python",
   "name": "python",
   "nbconvert_exporter": "python",
   "pygments_lexer": "ipython3",
   "version": "3.8.3"
  }
 },
 "nbformat": 4,
 "nbformat_minor": 4
}
