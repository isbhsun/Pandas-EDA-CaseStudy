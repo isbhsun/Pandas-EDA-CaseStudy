{
 "cells": [
  {
   "cell_type": "markdown",
   "metadata": {},
   "source": [
    "# Youtube Video Engagement\n",
    "\n",
    "#### Isabella Sun and Josh Bernd\n",
    "\n",
    "## Introduction\n",
    "In this exploratory data analysi, we examined the Trending YouTube Video Statistics data. Specifically, we were interested in different measures of engagement on trending YouTube videos. \n",
    "\n",
    "## Data Description\n",
    "The data describe a set of top-trending videos on the YouTube platform by various countries. The countries included in our analysis are:\n",
    "    - United States\n",
    "    - Great Britain\n",
    "    - Canada\n",
    "    - Germany\n",
    "    - France\n",
    "    - India\n",
    "\n",
    "The main information included in the data were:\n",
    "    - Trending Date\n",
    "    - Video Title\n",
    "    - YouTube Channel\n",
    "    - Time the video was published\n",
    "    - Category\n",
    "    - Tags\n",
    "    - Number of views\n",
    "    - Number of likes\n",
    "    - Number of dislikes\n",
    "    - Number of comments\n",
    "    \n",
    "Since our focus for this project was engagement rates, our three most important variables were likes, dislikes, and comments. To normalize engagement rates, we divided the total number of likes and dislikes by the number of views, and the number of comments by the number of views. The data are based on daily top trending YouTube videos, so a video that is trending for multiple days will appear multiple times in the data. We examined the engagement and views for the most recent date that a video was trending. \n",
    "\n",
    "### Missing/Excluded Data\n",
    "For the purposes of this project we removed any observations where comments and/or likes and dislikes were disabled for the video and any videos that had an error or were removed from our analysis. In total, there were only 23 videos that were removed or had an error in the US dataset and 696 videos with comments or likes disabled in the US dataset. \n",
    "\n",
    "\n",
    "## Analysis"
   ]
  },
  {
   "cell_type": "markdown",
   "metadata": {},
   "source": [
    "First, we take a look at the top performing videos by our measures of engagement.\n",
    "\n",
    "Below we have the top 10 videos with the highest likes and dislikes per view. It appears that these videos tend to be music/music video type videos. \n",
    "\n"
   ]
  },
  {
   "cell_type": "markdown",
   "metadata": {},
   "source": [
    "|    | Video Title                                    |   Likes and dislikes/view |\n",
    "|---:|:-----------------------------------------------|--------------------------:|\n",
    "|  1 | Shawn Mendes: The Tour - Official Trailer      |                  0.220729 |\n",
    "|  2 | PSA from Chairman of the FCC Ajit Pai          |                  0.197397 |\n",
    "|  3 | CRISTIANO RONALDO E FRED, O GRANDE ENCONTRO    |                  0.189541 |\n",
    "|  4 | GOALS GOALS GOALS                              |                  0.18375  |\n",
    "|  5 | Niall Horan - On The Loose (Lyric Video)       |                  0.173013 |\n",
    "|  6 | Harry Styles - Kiwi (live in studio)           |                  0.17093  |\n",
    "|  7 | BTS Takes on L.A. - Vogue                      |                  0.170105 |\n",
    "|  8 | BTS (방탄소년단) 'FAKE LOVE' Official Teaser 2    |                  0.164283 |\n",
    "|  9 | THINGS THAT ARE LOWER                          |                  0.163864 |\n",
    "| 10 | From Dream to Reality                          |                  0.160991 |"
   ]
  },
  {
   "cell_type": "markdown",
   "metadata": {},
   "source": [
    "Below we present the top 10 videos with the highes comments per view. They appear to commonly be makeup related content as opposed to music related content. "
   ]
  },
  {
   "cell_type": "markdown",
   "metadata": {},
   "source": [
    "|    | Video Title                                                |   Comments/View     |\n",
    "|---:|:-----------------------------------------------------------|--------------------:|\n",
    "|  1 | FULL FACE USING 7-ELEVEN MAKEUP!                           |           0.0941438 |\n",
    "|  2 | NEW WET N WILD 'GOTH-O-GRAPHIC' COLLECTION - HIT OR MISS?! |           0.0882932 |\n",
    "|  3 | FULL FACE OF MAKEUP IM THROWING OUT 2018                   |           0.0861341 |\n",
    "|  4 | #ProudToCreate: Pride 2018                                 |           0.0679747 |\n",
    "|  5 | STRANGERS DO MY MAKEUP ON HOLLYWOOD BOULEVARD              |           0.064245  |\n",
    "|  6 | BEST MAKEUP OF 2017!                                       |           0.054504  |\n",
    "|  7 | $11.99 FOUNDATION VS. $40 FOUNDATION: Who Wins ???         |           0.0508288 |\n",
    "|  8 | Melting Every Lipstick From Sephora Together               |           0.0501962 |\n",
    "|  9 | You, but in emojis. (YIAY #375)                            |           0.0474712 |\n",
    "| 10 | 18 MILLION SUBSCRIBERS!!!!                                 |           0.0459858 |"
   ]
  },
  {
   "cell_type": "markdown",
   "metadata": {},
   "source": [
    "The differing sets of videos that rank the highest by the two definitions of engagement suggests that videos that garner lots of likes and dislikes will not necessarily have high rates of comments per view and visa versa. "
   ]
  },
  {
   "cell_type": "markdown",
   "metadata": {},
   "source": [
    "Looking at the top 10 channels with the highest rates of likes/dislikes per view and the top 10 channels with the highest comments per view, we see a similar pattern to the top videos by engagement type. There is no overlap between the two sets of top 10 channels using different measures of engagement. This further supports the observation that high levels of engagement in the form of likes and dislikes is not necessarily indicative of high rates of commenting. "
   ]
  },
  {
   "cell_type": "markdown",
   "metadata": {},
   "source": [
    "|    | Channel.         |   Likes and dislikes/view |\n",
    "|---:|:-----------------|--------------------------:|\n",
    "|  1 | Daily Caller     |                  0.197397 |\n",
    "|  2 | Desimpedidos     |                  0.189541 |\n",
    "|  3 | KickThePj        |                  0.18375  |\n",
    "|  4 | Amber Liu        |                  0.163864 |\n",
    "|  5 | Max Joseph       |                  0.160991 |\n",
    "|  6 | Scotty Sire      |                  0.143784 |\n",
    "|  7 | Caspar           |                  0.141834 |\n",
    "|  8 | ConnorFranta     |                  0.139945 |\n",
    "|  9 | Smyang Piano     |                  0.137142 |\n",
    "| 10 | Henry Prince Mak |                  0.128749 |"
   ]
  },
  {
   "cell_type": "markdown",
   "metadata": {},
   "source": [
    "|    | Channel                 |  Comments/view.     |\n",
    "|---:|:------------------------|--------------------:|\n",
    "|  1 | Manny Mua               |           0.0494561 |\n",
    "|  2 | GingerPale              |           0.0422106 |\n",
    "|  3 | Bethany Mota            |           0.039281  |\n",
    "|  4 | Jessii Vee              |           0.0366854 |\n",
    "|  5 | Caravan Carolyn         |           0.034887  |\n",
    "|  6 | Mark Ferris             |           0.031746  |\n",
    "|  7 | RawBeautyKristi         |           0.0316663 |\n",
    "|  8 | Laura Lee               |           0.0302555 |\n",
    "|  9 | DanTDM                  |           0.02969   |\n",
    "| 10 | Jessica Kellgren-Fozard |           0.0291707 |"
   ]
  },
  {
   "cell_type": "markdown",
   "metadata": {},
   "source": [
    "This figure shows the frequency of videos with different engagement rates. From this graph, it appears that there are many videos with no comments. It is more common for a video to have a few likes and/or dislikes than to have no likes or dislikes. This is expected as the effort involved in engaging by commenting on a video is much higher than liking or disliking a video. Generally, there are fewer videos with higher rates of engagement. Interestingly, the frequency of videos with more comments per view increases slightly as the rate of commenting increases from about 6 comments per 100 views to 10 comments per 100 views. "
   ]
  },
  {
   "cell_type": "markdown",
   "metadata": {},
   "source": [
    "![alt text](images/engagement_hist.png \"Title\")"
   ]
  },
  {
   "cell_type": "markdown",
   "metadata": {},
   "source": [
    "#### Relationship between the different measures of engagement\n",
    "\n",
    "We also examined the realtionship between the measures of engagement. The correlation between likes and dislikes per view and comments per view is **0.44**\n",
    "\n",
    "However, we might observe a stronger relationship if we were to remove the outliers as it appears that there are a number of videos with high levels of commenting."
   ]
  },
  {
   "cell_type": "markdown",
   "metadata": {},
   "source": [
    "![alt text](images/us_engagement_scat.png \"Title\")"
   ]
  },
  {
   "cell_type": "markdown",
   "metadata": {},
   "source": [
    "### Engagement Rates by County"
   ]
  },
  {
   "cell_type": "markdown",
   "metadata": {},
   "source": [
    "Exploring the relationship between the two measures of engagement by country also appears to show only a weak relationship between a video getting likes/dislikes or getting comments. Where most countries see a few outliers either in the direction of high rates of commenting but low rates of liking/disling or high rates of liking/disliking but low rates of commenting. The exception is in India where it appears that the viral videos with exceptional rates of likes/dislikes also garner higher rates of commenting as well. "
   ]
  },
  {
   "cell_type": "markdown",
   "metadata": {},
   "source": [
    "![alt text](images/country_engagement_scat.png \"Title\") "
   ]
  },
  {
   "cell_type": "markdown",
   "metadata": {},
   "source": [
    "Below we present the average YouTube Video Engagement rates by Country. Some countries like Germany and France have higher average rates of engagement where India has relatively low average rates of engagement. "
   ]
  },
  {
   "cell_type": "markdown",
   "metadata": {},
   "source": [
    "![alt text](images/average_engagement_by_country.png \"Title\") "
   ]
  },
  {
   "cell_type": "markdown",
   "metadata": {},
   "source": [
    "### Visualizing Video View Depreciation"
   ]
  },
  {
   "cell_type": "markdown",
   "metadata": {},
   "source": [
    "An interesting feature of these data sets was that video data was entered each time the video trended. We wanted to see how a video's trending impacted new views."
   ]
  },
  {
   "cell_type": "markdown",
   "metadata": {},
   "source": [
    "![alt text](images/graph.png \"Title\") "
   ]
  }
 ],
 "metadata": {
  "kernelspec": {
   "display_name": "Python 3",
   "language": "python",
   "name": "python3"
  },
  "language_info": {
   "codemirror_mode": {
    "name": "ipython",
    "version": 3
   },
   "file_extension": ".py",
   "mimetype": "text/x-python",
   "name": "python",
   "nbconvert_exporter": "python",
   "pygments_lexer": "ipython3",
   "version": "3.7.7"
  }
 },
 "nbformat": 4,
 "nbformat_minor": 4
}
